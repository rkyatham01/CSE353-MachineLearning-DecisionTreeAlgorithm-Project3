{
 "cells": [
  {
   "cell_type": "code",
   "execution_count": 1,
   "metadata": {},
   "outputs": [],
   "source": [
    "import numpy as np\n",
    "import matplotlib.pyplot as plt\n",
    "import scipy.io as sio\n",
    "import scipy.stats as ss\n",
    "\n",
    "import sklearn.model_selection as ms "
   ]
  },
  {
   "cell_type": "code",
   "execution_count": 2,
   "metadata": {},
   "outputs": [
    {
     "name": "stdout",
     "output_type": "stream",
     "text": [
      "100000\n",
      "200000\n",
      "300000\n",
      "400000\n",
      "500000\n",
      "\n"
     ]
    }
   ],
   "source": [
    "# load your data (don't touch, just run)\n",
    "\n",
    "data = []\n",
    "f = open('covtype.data','r')\n",
    "while(1):\n",
    "    line = f.readline()\n",
    "    if  len(line) < 100:\n",
    "        print(line)\n",
    "    \n",
    "    if len(line) == 0: break\n",
    "    data.append(np.array([float(k) for k in line.split(',')]))\n",
    "    if len(data) % 100000 == 0:\n",
    "        print(len(data))\n",
    "        \n",
    "f.close\n",
    "data = np.vstack(data)\n",
    "N = data.shape[0]\n",
    "idx = np.random.permutation(N)\n",
    "\n",
    "\n",
    "X_test = data[:N//5,:]\n",
    "X_train = data[N//5:,:]\n",
    "y_test = X_test[:,-1]\n",
    "y_train = X_train[:,-1]\n",
    "X_test = X_test[:,:-1]\n",
    "X_train = X_train[:,:-1]\n",
    "\n",
    "\n",
    "sio.savemat('covtype.mat',{'X_train':X_train,'X_test':X_test,'y_train':y_train,'y_test':y_test})\n",
    "\n",
    "data = sio.loadmat('covtype.mat')\n",
    "X_train = data['X_train']\n",
    "X_test = data['X_test']\n",
    "y_train = data['y_train'][0]\n",
    "y_test = data['y_test'][0]\n",
    "\n",
    "y_idx_train = [np.where(np.equal(y_train,k))[0] for k in np.unique(y_train)]\n",
    "\n",
    "for i in range(len(y_idx_train)):\n",
    "    y_idx = y_idx_train[i]\n",
    "    y_idx_train[i] = y_idx[np.random.choice(len(y_idx),len(y_idx)//1000+1,replace=False)]\n",
    "    \n",
    "y_idx_train = np.hstack(y_idx_train)\n",
    "y_idx_train = np.random.permutation(y_idx_train)\n",
    "\n",
    "X_train = X_train[y_idx_train,:]\n",
    "y_train = y_train[y_idx_train]\n",
    "\n",
    "sio.savemat('covtype_reduced.mat',{'X_train':X_train,'X_test':X_test,'y_train':y_train,'y_test':y_test})\n"
   ]
  },
  {
   "cell_type": "code",
   "execution_count": 3,
   "metadata": {},
   "outputs": [
    {
     "name": "stdout",
     "output_type": "stream",
     "text": [
      "[1. 2. 3. 4. 5. 6. 7.] [1. 2. 3. 4. 5. 6. 7.]\n",
      "(468, 54) (116202, 54) (468,) (116202,)\n"
     ]
    }
   ],
   "source": [
    "\n",
    "data = sio.loadmat('covtype_reduced.mat')\n",
    "X_train = data['X_train']\n",
    "X_test = data['X_test']\n",
    "y_train = data['y_train'][0]\n",
    "y_test = data['y_test'][0]\n",
    "\n",
    "print(np.unique(y_train), np.unique(y_test))\n",
    "\n",
    "print(X_train.shape, X_test.shape, y_train.shape, y_test.shape)\n"
   ]
  },
  {
   "cell_type": "code",
   "execution_count": 4,
   "metadata": {},
   "outputs": [
    {
     "name": "stdout",
     "output_type": "stream",
     "text": [
      "entropy =  3.3141823231610834\n",
      "conditional entropy =  3.3029598816135173\n"
     ]
    }
   ],
   "source": [
    "from math import log,e\n",
    "\n",
    "def entropy(label):\n",
    "    unique, count = np.unique(label, return_counts=True, axis=0)\n",
    "    probability = count/len(label)\n",
    "    entroph = np.sum(probability*np.log2(probability) * -1)\n",
    "    return entroph\n",
    "\n",
    "def cond_entropy(label,split):\n",
    "    #n.c concatenates stacked 1-D arrays as colums into a 2-D array\n",
    "    jointDist = np.c_[label,split]\n",
    "    entro = entropy(jointDist)\n",
    "    return entro - entropy(split)\n",
    "\n",
    "random_sequences = sio.loadmat('random_sequences.mat')\n",
    "\n",
    "s1 = random_sequences['s1'][0]\n",
    "s2 = random_sequences['s2'][0]\n",
    "\n",
    "print('entropy = ', entropy(s1))\n",
    "print('conditional entropy = ', cond_entropy(s1,s2))\n",
    "    "
   ]
  },
  {
   "cell_type": "code",
   "execution_count": 5,
   "metadata": {},
   "outputs": [
    {
     "name": "stdout",
     "output_type": "stream",
     "text": [
      "information gained in first step 0.5881140851070632\n"
     ]
    }
   ],
   "source": [
    "# def find_best_split(x,y):\n",
    "#     best_feat = 0\n",
    "#     splitval = 0.\n",
    "#     set1 = range(int(len(y)/2))\n",
    "#     set2 = range(int(len(y)/2),len(y))\n",
    "#     return best_feat, splitval, set1, set2\n",
    "def find_best_split(x,y):\n",
    "    #x train a matrix and y train a vector\n",
    "    maxVar = float(\"-inf\")\n",
    "    set1 = range(int(len(y)/2))\n",
    "    set2 = range(int(len(y)/2), len(y))\n",
    "    best_feat = 0\n",
    "    splitval = 0.\n",
    "\n",
    "    for c in range(0, len(x[0])):\n",
    "        for r in np.unique(x):\n",
    "            tempset1 = np.where(x[:,c] < r)\n",
    "            tempset2 = np.where(x[:,c] >= r)\n",
    "            \n",
    "            weight1 = len(tempset1) / len(y)\n",
    "            weight2 = len(tempset2) / len(y)\n",
    "\n",
    "            informationGain = entropy(y) - (weight1*entropy(y[tempset1])) - (weight2*entropy(y[tempset2]))\n",
    "\n",
    "            if informationGain > maxVar:\n",
    "                maxVar = max(maxVar, informationGain)\n",
    "                set1 = tempset1\n",
    "                set2 = tempset2\n",
    "                best_feat = c\n",
    "                splitval = r\n",
    "    \n",
    "    return best_feat, splitval, set1, set2\n",
    "\n",
    "best_feat, splitval, set1, set2 = find_best_split(X_train, y_train)\n",
    "y_new = y_train * 0\n",
    "y_new[set1] = 1\n",
    "print('information gained in first step', (entropy(y_train) - cond_entropy(y_train,y_new)) * 10)"
   ]
  },
  {
   "cell_type": "code",
   "execution_count": 6,
   "metadata": {},
   "outputs": [],
   "source": [
    "def purity(y):\n",
    "    return ss.mode(y)[1]/len(y+0.)\n",
    "    \n",
    "class Node:\n",
    "    def __init__(self,  sample_idx, nodeid,  is_leaf = True):\n",
    "        self.is_leaf = is_leaf\n",
    "        self.id = nodeid\n",
    "        self.sample_idx = sample_idx\n",
    "        self.children = []        \n",
    "        \n",
    "    def visit_node(self, x):\n",
    "        if self.is_leaf:\n",
    "            return self.label\n",
    "        \"\"\" Fill me in \"\"\"\n",
    "        if x[self.splitfeat] < splitval:\n",
    "            return self.children[0].visit_node(x)\n",
    "        else:\n",
    "            return self.children[1].visit_node(x)\n",
    "\n",
    "    def add_split_details(self, splitfeat, splitval)  :\n",
    "        self.splitfeat = splitfeat\n",
    "        self.splitval = splitval\n",
    "    \n",
    "        \n",
    "class Tree:\n",
    "    def __init__(self, x,y):\n",
    "        m = len(y)\n",
    "        self.x = x\n",
    "        self.y = y\n",
    "        self.maxid = -1\n",
    "        self.root = self.construct_node(np.array(range(m)))\n",
    "        self.leaves = [self.root]\n",
    "        \n",
    "    def print_tree(self):\n",
    "        print('printing tree...')\n",
    "        def print_node(parent, node):\n",
    "            print(node.id, end='')\n",
    "            \n",
    "            if parent is not None:\n",
    "                print(', parent ', parent.id,end='')\n",
    "            else:\n",
    "                print(', ROOT',end='')\n",
    "                \n",
    "            print(', label ', node.label, end='')\n",
    "            if node.is_leaf: \n",
    "                print(', LEAF, ', 'nsamples %d, purity %.2f' %(len(node.sample_idx), purity(self.y[node.sample_idx])))\n",
    "            else:\n",
    "                print(', NONLEAF, split %d, val %.2f' % (node.splitfeat, node.splitval))\n",
    "            if not node.is_leaf:\n",
    "                for ch in node.children:\n",
    "                    print_node(node, ch)\n",
    "        print_node(None, self.root)\n",
    "        \n",
    "        \n",
    "    def construct_node(self, sample_idx):\n",
    "        node = Node(sample_idx, self.maxid + 1,  True)\n",
    "\n",
    "        node.label = ss.mode(self.y[sample_idx])[0][0] # fill me in\n",
    "        \n",
    "        node.entropy = entropy(self.y[sample_idx])\n",
    "        node.num_mistakes = np.sum(np.not_equal(node.label, self.y[sample_idx]))\n",
    "        self.maxid += 1\n",
    "        return node\n",
    "        \n",
    "    def report_train_err(self):\n",
    "        total_mistakes = 0\n",
    "        for leaf in self.leaves:\n",
    "            total_mistakes += leaf.num_mistakes\n",
    "        return total_mistakes / (len(self.y)+0.)\n",
    "        \n",
    "    \n",
    "    \n",
    "    def predict(self,x):\n",
    "        return self.root.visit_node(x)\n",
    "\n",
    "\n",
    "    "
   ]
  },
  {
   "cell_type": "code",
   "execution_count": 7,
   "metadata": {},
   "outputs": [
    {
     "name": "stdout",
     "output_type": "stream",
     "text": [
      "printing tree...\n",
      "0, ROOT, label  2.0, LEAF,  nsamples 468, purity 0.44\n",
      "current train err: 0.5641025641025641\n",
      "current test err: 0.3138069912738163\n",
      "printing tree...\n",
      "0, ROOT, label  2.0, NONLEAF, split 0, val 2234.00\n",
      "1, parent  0, label  3.0, LEAF,  nsamples 1, purity 1.00\n",
      "2, parent  0, label  2.0, LEAF,  nsamples 1, purity 0.44\n"
     ]
    },
    {
     "ename": "IndexError",
     "evalue": "too many indices for array: array is 1-dimensional, but 2 were indexed",
     "output_type": "error",
     "traceback": [
      "\u001b[1;31m---------------------------------------------------------------------------\u001b[0m",
      "\u001b[1;31mIndexError\u001b[0m                                Traceback (most recent call last)",
      "\u001b[1;32mc:\\Users\\rkyat\\OneDrive\\Desktop\\HW3_CSE353\\covertype_release\\decision_release.ipynb Cell 7\u001b[0m in \u001b[0;36m<cell line: 32>\u001b[1;34m()\u001b[0m\n\u001b[0;32m     <a href='vscode-notebook-cell:/c%3A/Users/rkyat/OneDrive/Desktop/HW3_CSE353/covertype_release/decision_release.ipynb#W6sZmlsZQ%3D%3D?line=34'>35</a>\u001b[0m tempx_train \u001b[39m=\u001b[39m X_train[treecurrLeaf\u001b[39m.\u001b[39msample_idx,:]\n\u001b[0;32m     <a href='vscode-notebook-cell:/c%3A/Users/rkyat/OneDrive/Desktop/HW3_CSE353/covertype_release/decision_release.ipynb#W6sZmlsZQ%3D%3D?line=36'>37</a>\u001b[0m \u001b[39mif\u001b[39;00m purity(tempy_train) \u001b[39m!=\u001b[39m \u001b[39m1\u001b[39m:\n\u001b[1;32m---> <a href='vscode-notebook-cell:/c%3A/Users/rkyat/OneDrive/Desktop/HW3_CSE353/covertype_release/decision_release.ipynb#W6sZmlsZQ%3D%3D?line=37'>38</a>\u001b[0m     best_feat, splitval, set1, set2 \u001b[39m=\u001b[39m find_best_split(tempx_train, tempy_train)\n\u001b[0;32m     <a href='vscode-notebook-cell:/c%3A/Users/rkyat/OneDrive/Desktop/HW3_CSE353/covertype_release/decision_release.ipynb#W6sZmlsZQ%3D%3D?line=38'>39</a>\u001b[0m     left_child \u001b[39m=\u001b[39m tree\u001b[39m.\u001b[39mconstruct_node(set1)\n\u001b[0;32m     <a href='vscode-notebook-cell:/c%3A/Users/rkyat/OneDrive/Desktop/HW3_CSE353/covertype_release/decision_release.ipynb#W6sZmlsZQ%3D%3D?line=39'>40</a>\u001b[0m     right_child \u001b[39m=\u001b[39m tree\u001b[39m.\u001b[39mconstruct_node(set2)\n",
      "\u001b[1;32mc:\\Users\\rkyat\\OneDrive\\Desktop\\HW3_CSE353\\covertype_release\\decision_release.ipynb Cell 7\u001b[0m in \u001b[0;36mfind_best_split\u001b[1;34m(x, y)\u001b[0m\n\u001b[0;32m     <a href='vscode-notebook-cell:/c%3A/Users/rkyat/OneDrive/Desktop/HW3_CSE353/covertype_release/decision_release.ipynb#W6sZmlsZQ%3D%3D?line=19'>20</a>\u001b[0m weight1 \u001b[39m=\u001b[39m \u001b[39mlen\u001b[39m(tempset1) \u001b[39m/\u001b[39m \u001b[39mlen\u001b[39m(y)\n\u001b[0;32m     <a href='vscode-notebook-cell:/c%3A/Users/rkyat/OneDrive/Desktop/HW3_CSE353/covertype_release/decision_release.ipynb#W6sZmlsZQ%3D%3D?line=20'>21</a>\u001b[0m weight2 \u001b[39m=\u001b[39m \u001b[39mlen\u001b[39m(tempset2) \u001b[39m/\u001b[39m \u001b[39mlen\u001b[39m(y)\n\u001b[1;32m---> <a href='vscode-notebook-cell:/c%3A/Users/rkyat/OneDrive/Desktop/HW3_CSE353/covertype_release/decision_release.ipynb#W6sZmlsZQ%3D%3D?line=22'>23</a>\u001b[0m informationGain \u001b[39m=\u001b[39m entropy(y) \u001b[39m-\u001b[39m (weight1\u001b[39m*\u001b[39mentropy(y[tempset1])) \u001b[39m-\u001b[39m (weight2\u001b[39m*\u001b[39mentropy(y[tempset2]))\n\u001b[0;32m     <a href='vscode-notebook-cell:/c%3A/Users/rkyat/OneDrive/Desktop/HW3_CSE353/covertype_release/decision_release.ipynb#W6sZmlsZQ%3D%3D?line=24'>25</a>\u001b[0m \u001b[39mif\u001b[39;00m informationGain \u001b[39m>\u001b[39m maxVar:\n\u001b[0;32m     <a href='vscode-notebook-cell:/c%3A/Users/rkyat/OneDrive/Desktop/HW3_CSE353/covertype_release/decision_release.ipynb#W6sZmlsZQ%3D%3D?line=25'>26</a>\u001b[0m     maxVar \u001b[39m=\u001b[39m \u001b[39mmax\u001b[39m(maxVar, informationGain)\n",
      "\u001b[1;31mIndexError\u001b[0m: too many indices for array: array is 1-dimensional, but 2 were indexed"
     ]
    }
   ],
   "source": [
    "def get_test_err(tree):\n",
    "    # get test error\n",
    "    num_test_mistakes = 0\n",
    "    for k in range(len(y_test)):\n",
    "        x,y = X_test[k,:],y_test[k]\n",
    "        if y != tree.predict(x):\n",
    "            num_test_mistakes += 1\n",
    "    return num_test_mistakes / (len(y_test)+0.)\n",
    "\n",
    "\n",
    "\n",
    "tree = Tree(X_train,y_train)\n",
    "tree.print_tree()\n",
    "print('current train err:', tree.report_train_err())\n",
    "print('current test err:', get_test_err(tree))\n",
    "\n",
    "\n",
    "# my first split\n",
    "best_feat, splitval, set1, set2 = find_best_split(X_train, y_train)\n",
    " \n",
    "left_child = tree.construct_node(set1)\n",
    "right_child = tree.construct_node(set2)\n",
    "tree.root.is_leaf = False\n",
    "tree.leaves.pop(tree.leaves.index(tree.root))\n",
    "tree.root.add_split_details(splitfeat = best_feat, splitval = splitval)\n",
    "\n",
    "\n",
    "tree.root.children = [left_child, right_child]\n",
    "tree.leaves.extend(tree.root.children)\n",
    "tree.print_tree()\n",
    "\n",
    "for i in range(0, 24):\n",
    "    treecurrLeaf = tree.leaves.pop(0)\n",
    "    tempy_train = y_train[treecurrLeaf.sample_idx]\n",
    "    tempx_train = X_train[treecurrLeaf.sample_idx,:]\n",
    "    \n",
    "    if purity(tempy_train) != 1:\n",
    "        best_feat, splitval, set1, set2 = find_best_split(tempx_train, tempy_train)\n",
    "        left_child = tree.construct_node(set1)\n",
    "        right_child = tree.construct_node(set2)\n",
    "        treecurrLeaf.is_leaf = False\n",
    "        treecurrLeaf.children.add_split_details(splitfeat = best_feat, splitval = splitval)\n",
    "\n",
    "        treecurrLeaf.children = [left_child, right_child]\n",
    "        tree.leaves.extend(treecurrLeaf.children)\n",
    "tree.print_tree()\n",
    "print('twenty five train err:', tree.report_train_err())\n",
    "print('twenty five test err:', get_test_err(tree))\n"
   ]
  },
  {
   "cell_type": "code",
   "execution_count": null,
   "metadata": {},
   "outputs": [],
   "source": []
  }
 ],
 "metadata": {
  "kernelspec": {
   "display_name": "Python 3.9.12 ('base')",
   "language": "python",
   "name": "python3"
  },
  "language_info": {
   "codemirror_mode": {
    "name": "ipython",
    "version": 3
   },
   "file_extension": ".py",
   "mimetype": "text/x-python",
   "name": "python",
   "nbconvert_exporter": "python",
   "pygments_lexer": "ipython3",
   "version": "3.9.12"
  },
  "vscode": {
   "interpreter": {
    "hash": "d54622ecdbdc639c7056ad4b01438bd9cf6e7be725bc1f95e98a94a553659d36"
   }
  }
 },
 "nbformat": 4,
 "nbformat_minor": 4
}
