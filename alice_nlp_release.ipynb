{
 "cells": [
  {
   "cell_type": "code",
   "execution_count": 90,
   "metadata": {},
   "outputs": [],
   "source": [
    "import numpy as np\n",
    "import pickle\n",
    "import matplotlib.pyplot as plt\n",
    "import copy"
   ]
  },
  {
   "cell_type": "code",
   "execution_count": 91,
   "metadata": {},
   "outputs": [],
   "source": [
    "#This was the process used to load and clean the corpus, and produce the corrupted corpus.\n",
    "#You don't need to do anything here.\n",
    "\n",
    "corpus = []\n",
    "f = open('alice_in_wonderland.txt','r')\n",
    "while(1):\n",
    "    line =  f.readline()\n",
    "    if len(line) == 0: break\n",
    "    corpus.extend(line.split())\n",
    "        \n",
    "f.close()\n",
    "\n",
    "\n",
    "def clean_word(word):\n",
    "    word = word.lower().strip()\n",
    "    for punctuation in ['*','\"',\"'\",'.',',','-','?','!',';',':','—','(',')','[',']']:\n",
    "        \n",
    "        word = ''.join(word.split(punctuation))\n",
    "    \n",
    "    return word\n",
    "\n",
    "corpus = [clean_word(word) for word in corpus]\n",
    "corpus = [word for word in corpus if len(word) > 0]\n",
    "\n",
    "corrupted_corpus = copy.deepcopy(corpus)\n",
    "\n",
    "p = .25\n",
    "alphabet = 'abcdefghijklmnopqrstuvwxyz'\n",
    "for k in range(len(corrupted_corpus)):\n",
    "    word = corrupted_corpus[k]\n",
    "    if len(word) < 2: continue\n",
    "    if np.random.rand() < p:\n",
    "        if np.random.randn() < 0:\n",
    "            swap = np.random.choice(range(len(word)), size=2, replace = False)\n",
    "            swap = np.sort(swap)\n",
    "            word = ''.join([word[:swap[0]], word[swap[1]], word[swap[0]+1:swap[1]], word[swap[0]], word[swap[1]+1:]])\n",
    "        else:\n",
    "            \n",
    "            replace = np.random.choice(range(len(word)), size=1, replace = False)[0]\n",
    "            replace_with = alphabet[np.random.choice(range(len(alphabet)),size=1)[0]]\n",
    "            word = ''.join([word[:replace], replace_with, word[replace+1:]])\n",
    "        \n",
    "        corrupted_corpus[k] = word\n",
    "\n",
    "pickle.dump({'corpus':corpus,'corrupted_corpus':corrupted_corpus},open('alice_spelling.pkl','wb'))\n"
   ]
  },
  {
   "cell_type": "code",
   "execution_count": 92,
   "metadata": {},
   "outputs": [
    {
     "name": "stdout",
     "output_type": "stream",
     "text": [
      "current recovery rate 0.7683558175565884\n",
      "prob misspelling alice vs alace 0.8\n",
      "prob misspelling alice vs earth 1e-06\n",
      "prob misspelling machinelearning vs machinedreaming 0.6666666666666666\n",
      "prob misspelling machinelearning vs artificalintell 1e-06\n"
     ]
    }
   ],
   "source": [
    "#Take a look at how the data looks, and let's make some helper functions.\n",
    "data = pickle.load(open('alice_spelling.pkl','rb'))\n",
    "vocab = np.unique(data['corpus'])\n",
    "V = len(vocab)\n",
    "\n",
    "\n",
    "## CORRECT VS INCORRECT CORPUS\n",
    "##For now, we will hold onto both the correct and incorrect corpuses. Later, you will only process the incorrect corpus, and the correct corpus is only used as a reference to check for recovery accuracy.\n",
    "def recovery_rate(new_corpus, correct_corpus):\n",
    "    wrong = 0\n",
    "    for k in range(len(new_corpus)):\n",
    "        if new_corpus[k] != correct_corpus[k]:\n",
    "            wrong += 1\n",
    "    return 1.- wrong/(len(new_corpus)+0.)\n",
    "print('current recovery rate', recovery_rate(data['corpus'],data['corrupted_corpus'] ))\n",
    "\n",
    "## Probability of a word mispelling\n",
    "## We will use the following function to predict whether a misspelled word was actually another word. To avoid numerical issues, we make sure that the probablity is always something nonzero.\n",
    "def prob_misspelled(word1,word2):\n",
    "    SMALLNUM = 0.000001\n",
    "    if len(word1) != len(word2): return SMALLNUM\n",
    "    num_wrong = np.sum(np.array([word1[k] == word2[k] for k in range(len(word1))]))\n",
    "    return np.maximum(num_wrong / (len(word1) + 0.),SMALLNUM)\n",
    "print('prob misspelling alice vs alace', prob_misspelled('alice','alace'))\n",
    "print('prob misspelling alice vs earth', prob_misspelled('alice','earth'))\n",
    "print('prob misspelling machinelearning vs machinedreaming', prob_misspelled('machinelearning','machinedreaming'))\n",
    "print('prob misspelling machinelearning vs artificalintell', prob_misspelled('machinelearning','artificalintell'))\n",
    "\n",
    "##HASHING\n",
    "#all of our objects should be vectors of length V or matrices which are V x V. \n",
    "#the kth word in the vocab list is represented by the kth element of the vector, and the relationship between the i,jth words is represented in the i,jth element in the matrix.\n",
    "# to easily go between the word indices and words themselves, we need to make a hash table. \n",
    "vocab_hash = {}\n",
    "for k in range(len(vocab)):\n",
    "    vocab_hash[vocab[k]] = k\n",
    "    \n",
    "#now, to access the $k$th word, we do vocab[k]. To access the index of a word, we call vocab_hash[word].\n",
    "\n",
    "\n"
   ]
  },
  {
   "cell_type": "code",
   "execution_count": 93,
   "metadata": {},
   "outputs": [
    {
     "name": "stdout",
     "output_type": "stream",
     "text": [
      "prob. of \"alice\" 0.014548615047424706\n",
      "prob. of \"queen\" 0.002569625514869818\n",
      "prob. of \"chapter\" 0.0009069266523069947\n"
     ]
    }
   ],
   "source": [
    "## FILL ME IN ##\n",
    "\n",
    "\n",
    "#WORD FREQUENCY\n",
    "#create an array of length V where V[k] returns the normalized frequency of word k in the entire data corpus. Do so by filling in this function.\n",
    "def get_word_freq(corpus):\n",
    "    word_freq = []\n",
    "    for vocab_word in vocab:\n",
    "        word_freq.append(np.sum([vocab_word == word for word in corpus]))\n",
    "    return np.array(word_freq)\n",
    "    \n",
    "    \n",
    "#create an array of length V where V[k] returns the normalized frequency of word k in the entire data corpus. Do so by filling in this function.\n",
    "\n",
    "def get_word_prob(corpus):\n",
    "    word_freq = get_word_freq(corpus)\n",
    "    word_prob = word_freq / (np.sum(word_freq))\n",
    "    return word_prob\n",
    "    \n",
    "word_freq =  get_word_freq(data['corpus'])\n",
    "word_prob =  get_word_prob(data['corpus'])\n",
    "\n",
    "#report the answer of the following:\n",
    "print('prob. of \"alice\"', word_prob[vocab_hash['alice']])\n",
    "print('prob. of \"queen\"', word_prob[vocab_hash['queen']])\n",
    "print('prob. of \"chapter\"', word_prob[vocab_hash['chapter']])\n",
    "\n",
    "\n",
    "\n"
   ]
  },
  {
   "cell_type": "code",
   "execution_count": 94,
   "metadata": {},
   "outputs": [
    {
     "name": "stdout",
     "output_type": "stream",
     "text": [
      "prob. of \"the alice\" 0.0\n",
      "prob. of \"the queen\" 0.03970678069639585\n",
      "prob. of \"the chapter\" 0.0\n",
      "prob. of \"the hatter\" 0.031154551007941355\n"
     ]
    }
   ],
   "source": [
    "\n",
    "\n",
    "# Pr(word | prev word) \n",
    "#Using the uncorrupted corpus, accumulate the conditional transition probabilities. \n",
    "def get_transition_matrix(corpus):\n",
    "    transition_matrix = np.zeros((len(vocab),len(vocab)))\n",
    "    for i in range(len(corpus)-1):\n",
    "        ##swap here        \n",
    "        the_prev_word = corpus[i]\n",
    "        word = corpus[i+1]\n",
    "\n",
    "        word_hashed = vocab_hash[word]\n",
    "        prev_word_hashed = vocab_hash[the_prev_word]\n",
    "\n",
    "        transition_matrix[word_hashed, prev_word_hashed] += 1.\n",
    "\n",
    "    transition_matrix = transition_matrix /  word_freq\n",
    "    return transition_matrix\n",
    "    \n",
    "transition_matrix = get_transition_matrix(data['corpus'])\n",
    "\n",
    "\n",
    "print('prob. of \"the alice\"', transition_matrix[vocab_hash['alice'],vocab_hash['the']])\n",
    "print('prob. of \"the queen\"', transition_matrix[vocab_hash['queen'],vocab_hash['the']])\n",
    "print('prob. of \"the chapter\"', transition_matrix[vocab_hash['chapter'],vocab_hash['the']])\n",
    "\n",
    "print('prob. of \"the hatter\"', transition_matrix[vocab_hash['hatter'],vocab_hash['the']])\n",
    "\n"
   ]
  },
  {
   "cell_type": "code",
   "execution_count": 95,
   "metadata": {},
   "outputs": [
    {
     "name": "stdout",
     "output_type": "stream",
     "text": [
      "['alice', 'abide', 'voice', 'above', 'alive', 'twice', 'dunce', 'prize', 'smile', 'since']\n"
     ]
    }
   ],
   "source": [
    "#The prior probabilities are just the word frequencies\n",
    "prior = word_prob  + 0.\n",
    "\n",
    "#write a function that returns the emission probability of a potentially misspelled word, by comparing its probabilities against every word in the correct vocabulary\n",
    "def get_emission(mword):\n",
    "    return np.array([prob_misspelled(mword,word) for word in vocab])\n",
    "\n",
    "#find the 10 closest words to 'abice' and report them\n",
    "idx = np.argsort(get_emission('abice'))[::-1]\n",
    "print([vocab[j] for j in idx[:10]])\n"
   ]
  },
  {
   "cell_type": "code",
   "execution_count": 96,
   "metadata": {},
   "outputs": [],
   "source": [
    "#now we reduce our attention to a small segment of the corrupted corpus\n",
    "corrupt_corpus =   data['corrupted_corpus'][:1000]\n",
    "correct_corpus =   data['corpus'][:1000]\n"
   ]
  },
  {
   "cell_type": "code",
   "execution_count": 97,
   "metadata": {},
   "outputs": [],
   "source": [
    "# encode the HMM spelling corrector. To debug, you can see the first hundred words of both the corrupted and proposed corpus, to see if spelling words got corrupted.\n",
    "\n",
    "# report the recovery rate of the proposed (corrected) corpus.\n",
    "\n",
    "#forward step\n",
    "forward_probs = np.ones((len(corrupt_corpus), V))/(V+0.)\n",
    "lengthCor = len(corrupt_corpus)\n",
    "i = 0\n",
    "\n",
    "while i < lengthCor:   \n",
    "    if i == 0:\n",
    "        forward_probs[i,:] = prior*get_emission(corrupt_corpus[i])\n",
    "        forward_probs[i,:] = forward_probs[i,:] / np.sum(forward_probs[i,:])\n",
    "        i += 1\n",
    "        continue\n",
    "\n",
    "    else:\n",
    "        forward_probs[i,:] = get_emission(corrupt_corpus[i])*np.dot(transition_matrix, forward_probs[i-1,:])\n",
    "        forward_probs[i,:] = forward_probs[i,:] / np.sum(forward_probs[i,:])\n",
    "        i += 1\n",
    "        continue\n",
    "    \n",
    "backward_probs = np.ones((len(corrupt_corpus), V))/(V+0.)\n",
    "j = len(corrupt_corpus)-1\n",
    "lengthCor2 = len(corrupt_corpus)-1\n",
    "\n",
    "while j >= 0:\n",
    "    if j == len(corrupt_corpus)-1:\n",
    "        backward_probs[j,:] = get_emission(corrupt_corpus[j])\n",
    "        backward_probs[j,:] = backward_probs[j,:] / np.sum(backward_probs[j,:])\n",
    "        j -= 1\n",
    "        continue\n",
    "    else:\n",
    "        backward_probs[j,:] = get_emission(corrupt_corpus[j])*np.dot(transition_matrix.T, backward_probs[j+1,:])\n",
    "        backward_probs[j,:] = backward_probs[j,:] / np.sum(backward_probs[j,:])\n",
    "        j -= 1\n",
    "        continue\n",
    "\n",
    "#return likelihood of kth word in corpus   \n",
    "def get_max_likelihood(k):\n",
    "    like = forward_probs[k,:]*backward_probs[k,:]\n",
    "    return np.argmax(like)"
   ]
  },
  {
   "cell_type": "code",
   "execution_count": 98,
   "metadata": {},
   "outputs": [
    {
     "name": "stdout",
     "output_type": "stream",
     "text": [
      "0.749 0.928\n",
      "deep dwep deep\n",
      "she hse she\n",
      "this shit this\n",
      "alice aleci alice\n",
      "the eht the\n",
      "theyll tleylh theyll\n",
      "got xot got\n",
      "pop pow pop\n",
      "ran rwn ran\n",
      "and azd and\n",
      "for fou for\n",
      "was aws was\n",
      "do od of\n",
      "such sucs such\n",
      "she seh she\n",
      "she seh she\n",
      "cats cqts cats\n",
      "this shit this\n",
      "was wsa was\n",
      "or ro to\n",
      "such sucs such\n",
      "itself etsilf itself\n",
      "this tihs this\n",
      "to ot it\n",
      "through nhrough through\n",
      "she hse she\n",
      "rabbit raibbt rabbit\n",
      "alice alicx alice\n",
      "the hte the\n",
      "down dnwo down\n"
     ]
    }
   ],
   "source": [
    "#evaluate\n",
    "proposed_corpus = copy.deepcopy(corrupt_corpus)\n",
    "for k in range(len(corrupt_corpus)):\n",
    "    new_word = vocab[get_max_likelihood(k)]\n",
    "    proposed_corpus[k] = new_word\n",
    "\n",
    "print(recovery_rate(corrupt_corpus, correct_corpus), recovery_rate(proposed_corpus, correct_corpus) )\n",
    "for trial in range(100):\n",
    "    k = int(np.random.rand()*1000)\n",
    "    if correct_corpus[k] == corrupt_corpus[k]: continue\n",
    "    print(correct_corpus[k],corrupt_corpus[k],proposed_corpus[k])\n",
    "    j = np.argmax(forward_probs[k,:]*backward_probs[k,:])\n",
    "    i = vocab_hash[correct_corpus[k]]\n"
   ]
  },
  {
   "cell_type": "code",
   "execution_count": null,
   "metadata": {},
   "outputs": [],
   "source": []
  },
  {
   "cell_type": "code",
   "execution_count": null,
   "metadata": {},
   "outputs": [],
   "source": []
  }
 ],
 "metadata": {
  "kernelspec": {
   "display_name": "Python 3.9.12 ('base')",
   "language": "python",
   "name": "python3"
  },
  "language_info": {
   "codemirror_mode": {
    "name": "ipython",
    "version": 3
   },
   "file_extension": ".py",
   "mimetype": "text/x-python",
   "name": "python",
   "nbconvert_exporter": "python",
   "pygments_lexer": "ipython3",
   "version": "3.9.12"
  },
  "vscode": {
   "interpreter": {
    "hash": "d54622ecdbdc639c7056ad4b01438bd9cf6e7be725bc1f95e98a94a553659d36"
   }
  }
 },
 "nbformat": 4,
 "nbformat_minor": 4
}
